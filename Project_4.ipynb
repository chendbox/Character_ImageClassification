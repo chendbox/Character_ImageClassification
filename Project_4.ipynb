{
 "cells": [
  {
   "cell_type": "code",
   "execution_count": 6,
   "id": "e5cd0deb-4c13-4ddc-ae1a-98258a6946a7",
   "metadata": {
    "execution": {
     "iopub.execute_input": "2021-08-09T22:48:33.222421Z",
     "iopub.status.busy": "2021-08-09T22:48:33.222236Z",
     "iopub.status.idle": "2021-08-09T22:48:33.229001Z",
     "shell.execute_reply": "2021-08-09T22:48:33.228307Z",
     "shell.execute_reply.started": "2021-08-09T22:48:33.222405Z"
    },
    "tags": []
   },
   "outputs": [],
   "source": [
    "import numpy as np\n",
    "import pandas as pd\n",
    "import matplotlib.pyplot as plt\n",
    "import seaborn as sns\n",
    "from sklearn.preprocessing import StandardScaler \n",
    "from sklearn.pipeline import Pipeline\n",
    "from sklearn.model_selection import GridSearchCV, train_test_split, RandomizedSearchCV"
   ]
  },
  {
   "cell_type": "code",
   "execution_count": 7,
   "id": "23187726-c91c-43ed-a9fb-ab304b6c193d",
   "metadata": {
    "execution": {
     "iopub.execute_input": "2021-08-09T22:48:35.326450Z",
     "iopub.status.busy": "2021-08-09T22:48:35.326255Z",
     "iopub.status.idle": "2021-08-09T22:48:35.332068Z",
     "shell.execute_reply": "2021-08-09T22:48:35.331329Z",
     "shell.execute_reply.started": "2021-08-09T22:48:35.326434Z"
    },
    "tags": []
   },
   "outputs": [],
   "source": [
    "from sklearn.neighbors import KNeighborsClassifier\n",
    "from sklearn.model_selection import train_test_split, cross_val_score\n",
    "from sklearn.preprocessing import StandardScaler"
   ]
  },
  {
   "cell_type": "code",
   "execution_count": null,
   "id": "3c4fa164-46a4-4f08-83fc-ddf79d153f3c",
   "metadata": {
    "tags": []
   },
   "outputs": [],
   "source": [
    "data = pd.read_csv('./data/test.csv')"
   ]
  },
  {
   "cell_type": "code",
   "execution_count": 9,
   "id": "1b6cf481-99cd-4878-9f0d-1c3d5983b99d",
   "metadata": {
    "execution": {
     "iopub.execute_input": "2021-08-09T22:48:36.488057Z",
     "iopub.status.busy": "2021-08-09T22:48:36.487872Z",
     "iopub.status.idle": "2021-08-09T22:48:36.505360Z",
     "shell.execute_reply": "2021-08-09T22:48:36.504698Z",
     "shell.execute_reply.started": "2021-08-09T22:48:36.488041Z"
    },
    "tags": []
   },
   "outputs": [
    {
     "data": {
      "text/html": [
       "<div>\n",
       "<style scoped>\n",
       "    .dataframe tbody tr th:only-of-type {\n",
       "        vertical-align: middle;\n",
       "    }\n",
       "\n",
       "    .dataframe tbody tr th {\n",
       "        vertical-align: top;\n",
       "    }\n",
       "\n",
       "    .dataframe thead th {\n",
       "        text-align: right;\n",
       "    }\n",
       "</style>\n",
       "<table border=\"1\" class=\"dataframe\">\n",
       "  <thead>\n",
       "    <tr style=\"text-align: right;\">\n",
       "      <th></th>\n",
       "      <th>label</th>\n",
       "      <th>pixel0</th>\n",
       "      <th>pixel1</th>\n",
       "      <th>pixel2</th>\n",
       "      <th>pixel3</th>\n",
       "      <th>pixel4</th>\n",
       "      <th>pixel5</th>\n",
       "      <th>pixel6</th>\n",
       "      <th>pixel7</th>\n",
       "      <th>pixel8</th>\n",
       "      <th>...</th>\n",
       "      <th>pixel774</th>\n",
       "      <th>pixel775</th>\n",
       "      <th>pixel776</th>\n",
       "      <th>pixel777</th>\n",
       "      <th>pixel778</th>\n",
       "      <th>pixel779</th>\n",
       "      <th>pixel780</th>\n",
       "      <th>pixel781</th>\n",
       "      <th>pixel782</th>\n",
       "      <th>pixel783</th>\n",
       "    </tr>\n",
       "  </thead>\n",
       "  <tbody>\n",
       "    <tr>\n",
       "      <th>0</th>\n",
       "      <td>0</td>\n",
       "      <td>0</td>\n",
       "      <td>0</td>\n",
       "      <td>0</td>\n",
       "      <td>0</td>\n",
       "      <td>0</td>\n",
       "      <td>0</td>\n",
       "      <td>0</td>\n",
       "      <td>0</td>\n",
       "      <td>0</td>\n",
       "      <td>...</td>\n",
       "      <td>0</td>\n",
       "      <td>0</td>\n",
       "      <td>0</td>\n",
       "      <td>0</td>\n",
       "      <td>0</td>\n",
       "      <td>0</td>\n",
       "      <td>0</td>\n",
       "      <td>0</td>\n",
       "      <td>0</td>\n",
       "      <td>0</td>\n",
       "    </tr>\n",
       "    <tr>\n",
       "      <th>1</th>\n",
       "      <td>1</td>\n",
       "      <td>0</td>\n",
       "      <td>0</td>\n",
       "      <td>0</td>\n",
       "      <td>0</td>\n",
       "      <td>0</td>\n",
       "      <td>0</td>\n",
       "      <td>0</td>\n",
       "      <td>0</td>\n",
       "      <td>0</td>\n",
       "      <td>...</td>\n",
       "      <td>0</td>\n",
       "      <td>0</td>\n",
       "      <td>0</td>\n",
       "      <td>0</td>\n",
       "      <td>0</td>\n",
       "      <td>0</td>\n",
       "      <td>0</td>\n",
       "      <td>0</td>\n",
       "      <td>0</td>\n",
       "      <td>0</td>\n",
       "    </tr>\n",
       "    <tr>\n",
       "      <th>2</th>\n",
       "      <td>2</td>\n",
       "      <td>0</td>\n",
       "      <td>0</td>\n",
       "      <td>0</td>\n",
       "      <td>0</td>\n",
       "      <td>0</td>\n",
       "      <td>0</td>\n",
       "      <td>0</td>\n",
       "      <td>0</td>\n",
       "      <td>0</td>\n",
       "      <td>...</td>\n",
       "      <td>0</td>\n",
       "      <td>0</td>\n",
       "      <td>0</td>\n",
       "      <td>0</td>\n",
       "      <td>0</td>\n",
       "      <td>0</td>\n",
       "      <td>0</td>\n",
       "      <td>0</td>\n",
       "      <td>0</td>\n",
       "      <td>0</td>\n",
       "    </tr>\n",
       "    <tr>\n",
       "      <th>3</th>\n",
       "      <td>3</td>\n",
       "      <td>0</td>\n",
       "      <td>0</td>\n",
       "      <td>0</td>\n",
       "      <td>0</td>\n",
       "      <td>0</td>\n",
       "      <td>0</td>\n",
       "      <td>0</td>\n",
       "      <td>0</td>\n",
       "      <td>0</td>\n",
       "      <td>...</td>\n",
       "      <td>0</td>\n",
       "      <td>0</td>\n",
       "      <td>0</td>\n",
       "      <td>0</td>\n",
       "      <td>0</td>\n",
       "      <td>0</td>\n",
       "      <td>0</td>\n",
       "      <td>0</td>\n",
       "      <td>0</td>\n",
       "      <td>0</td>\n",
       "    </tr>\n",
       "    <tr>\n",
       "      <th>4</th>\n",
       "      <td>4</td>\n",
       "      <td>0</td>\n",
       "      <td>0</td>\n",
       "      <td>0</td>\n",
       "      <td>0</td>\n",
       "      <td>0</td>\n",
       "      <td>0</td>\n",
       "      <td>0</td>\n",
       "      <td>0</td>\n",
       "      <td>0</td>\n",
       "      <td>...</td>\n",
       "      <td>0</td>\n",
       "      <td>0</td>\n",
       "      <td>0</td>\n",
       "      <td>0</td>\n",
       "      <td>0</td>\n",
       "      <td>0</td>\n",
       "      <td>0</td>\n",
       "      <td>0</td>\n",
       "      <td>0</td>\n",
       "      <td>0</td>\n",
       "    </tr>\n",
       "  </tbody>\n",
       "</table>\n",
       "<p>5 rows × 785 columns</p>\n",
       "</div>"
      ],
      "text/plain": [
       "   label  pixel0  pixel1  pixel2  pixel3  pixel4  pixel5  pixel6  pixel7  \\\n",
       "0      0       0       0       0       0       0       0       0       0   \n",
       "1      1       0       0       0       0       0       0       0       0   \n",
       "2      2       0       0       0       0       0       0       0       0   \n",
       "3      3       0       0       0       0       0       0       0       0   \n",
       "4      4       0       0       0       0       0       0       0       0   \n",
       "\n",
       "   pixel8  ...  pixel774  pixel775  pixel776  pixel777  pixel778  pixel779  \\\n",
       "0       0  ...         0         0         0         0         0         0   \n",
       "1       0  ...         0         0         0         0         0         0   \n",
       "2       0  ...         0         0         0         0         0         0   \n",
       "3       0  ...         0         0         0         0         0         0   \n",
       "4       0  ...         0         0         0         0         0         0   \n",
       "\n",
       "   pixel780  pixel781  pixel782  pixel783  \n",
       "0         0         0         0         0  \n",
       "1         0         0         0         0  \n",
       "2         0         0         0         0  \n",
       "3         0         0         0         0  \n",
       "4         0         0         0         0  \n",
       "\n",
       "[5 rows x 785 columns]"
      ]
     },
     "execution_count": 9,
     "metadata": {},
     "output_type": "execute_result"
    }
   ],
   "source": [
    "data.head()"
   ]
  },
  {
   "cell_type": "code",
   "execution_count": 20,
   "id": "7c184376-c9b8-4bf8-9226-ac5b42cf70d9",
   "metadata": {
    "execution": {
     "iopub.execute_input": "2021-08-09T17:35:07.210925Z",
     "iopub.status.busy": "2021-08-09T17:35:07.210610Z",
     "iopub.status.idle": "2021-08-09T17:35:07.338682Z",
     "shell.execute_reply": "2021-08-09T17:35:07.338315Z",
     "shell.execute_reply.started": "2021-08-09T17:35:07.210908Z"
    }
   },
   "outputs": [
    {
     "name": "stderr",
     "output_type": "stream",
     "text": [
      "/home/tanveer/anaconda3/lib/python3.8/site-packages/seaborn/_decorators.py:36: FutureWarning: Pass the following variable as a keyword arg: x. From version 0.12, the only valid positional argument will be `data`, and passing other arguments without an explicit keyword will result in an error or misinterpretation.\n",
      "  warnings.warn(\n"
     ]
    },
    {
     "data": {
      "image/png": "[encoded data removed]",
      "text/plain": [
       "<Figure size 432x288 with 1 Axes>"
      ]
     },
     "metadata": {
      "needs_background": "light"
     },
     "output_type": "display_data"
    }
   ],
   "source": [
    "sns.countplot(data['label'])\n",
    "plt.show()"
   ]
  },
  {
   "cell_type": "code",
   "execution_count": 4,
   "id": "3098642b-529b-44da-8df9-2ee507e5dbc5",
   "metadata": {
    "execution": {
     "iopub.execute_input": "2021-08-09T17:23:58.711914Z",
     "iopub.status.busy": "2021-08-09T17:23:58.711624Z",
     "iopub.status.idle": "2021-08-09T17:23:58.717800Z",
     "shell.execute_reply": "2021-08-09T17:23:58.717336Z",
     "shell.execute_reply.started": "2021-08-09T17:23:58.711897Z"
    }
   },
   "outputs": [
    {
     "data": {
      "text/plain": [
       "0    6000\n",
       "1    6000\n",
       "2    6000\n",
       "3    6000\n",
       "4    6000\n",
       "5    6000\n",
       "6    6000\n",
       "7    6000\n",
       "8    6000\n",
       "9    6000\n",
       "Name: label, dtype: int64"
      ]
     },
     "execution_count": 4,
     "metadata": {},
     "output_type": "execute_result"
    }
   ],
   "source": [
    "data['label'].value_counts()"
   ]
  },
  {
   "cell_type": "code",
   "execution_count": 5,
   "id": "0749994e-1a7d-443b-b8ef-774081db33b9",
   "metadata": {
    "execution": {
     "iopub.execute_input": "2021-08-09T17:24:20.461437Z",
     "iopub.status.busy": "2021-08-09T17:24:20.461140Z",
     "iopub.status.idle": "2021-08-09T17:24:20.469013Z",
     "shell.execute_reply": "2021-08-09T17:24:20.468319Z",
     "shell.execute_reply.started": "2021-08-09T17:24:20.461420Z"
    }
   },
   "outputs": [
    {
     "data": {
      "text/plain": [
       "(60000, 785)"
      ]
     },
     "execution_count": 5,
     "metadata": {},
     "output_type": "execute_result"
    }
   ],
   "source": [
    "data.shape"
   ]
  },
  {
   "cell_type": "code",
   "execution_count": 21,
   "id": "da07f078-1005-4cfd-a177-1d434ed49e9d",
   "metadata": {
    "execution": {
     "iopub.execute_input": "2021-08-09T17:39:17.376375Z",
     "iopub.status.busy": "2021-08-09T17:39:17.376020Z",
     "iopub.status.idle": "2021-08-09T17:39:17.381444Z",
     "shell.execute_reply": "2021-08-09T17:39:17.381107Z",
     "shell.execute_reply.started": "2021-08-09T17:39:17.376358Z"
    }
   },
   "outputs": [
    {
     "data": {
      "text/plain": [
       "label       int64\n",
       "pixel0      int64\n",
       "pixel1      int64\n",
       "pixel2      int64\n",
       "pixel3      int64\n",
       "            ...  \n",
       "pixel779    int64\n",
       "pixel780    int64\n",
       "pixel781    int64\n",
       "pixel782    int64\n",
       "pixel783    int64\n",
       "Length: 785, dtype: object"
      ]
     },
     "execution_count": 21,
     "metadata": {},
     "output_type": "execute_result"
    }
   ],
   "source": [
    "data.dtypes"
   ]
  },
  {
   "cell_type": "code",
   "execution_count": 44,
   "id": "7290d5bc-2faa-4972-a8ef-ec110f70c823",
   "metadata": {
    "execution": {
     "iopub.execute_input": "2021-08-09T17:48:18.387613Z",
     "iopub.status.busy": "2021-08-09T17:48:18.387375Z",
     "iopub.status.idle": "2021-08-09T17:48:18.475683Z",
     "shell.execute_reply": "2021-08-09T17:48:18.474960Z",
     "shell.execute_reply.started": "2021-08-09T17:48:18.387596Z"
    },
    "tags": []
   },
   "outputs": [],
   "source": [
    "X_all = (data.iloc[:,1:].values).astype('float32')\n",
    "y_all = data.iloc[:,0].values.astype('int32')"
   ]
  },
  {
   "cell_type": "markdown",
   "id": "3c1c5ca7-4daf-4b21-b1e3-19a064a51453",
   "metadata": {},
   "source": [
    "# Visualization  "
   ]
  },
  {
   "cell_type": "code",
   "execution_count": 45,
   "id": "f9c321f8-a177-4728-a2a7-2d8aae8619df",
   "metadata": {
    "execution": {
     "iopub.execute_input": "2021-08-09T17:48:33.881304Z",
     "iopub.status.busy": "2021-08-09T17:48:33.881115Z",
     "iopub.status.idle": "2021-08-09T17:48:34.577855Z",
     "shell.execute_reply": "2021-08-09T17:48:34.577504Z",
     "shell.execute_reply.started": "2021-08-09T17:48:33.881287Z"
    },
    "tags": []
   },
   "outputs": [
    {
     "data": {
      "image/png": "[encoded data removed]",
      "text/plain": [
       "<Figure size 576x576 with 25 Axes>"
      ]
     },
     "metadata": {
      "needs_background": "light"
     },
     "output_type": "display_data"
    }
   ],
   "source": [
    "# https://www.kaggle.com/subinium/t-sne-viz-on-kannada-mnist\n",
    "\n",
    "plt.figure(figsize=(8,8))\n",
    "\n",
    "x, y = 5, 5\n",
    "for i in range(25):  \n",
    "    plt.subplot(y, x, i+1)\n",
    "    plt.title(str(y_all[i]))\n",
    "    plt.axis('off')\n",
    "    plt.imshow(X_all[i].reshape((28,28)),interpolation='nearest')\n",
    "plt.show()\n"
   ]
  },
  {
   "cell_type": "code",
   "execution_count": 49,
   "id": "1d107846-3493-427f-b9a9-365aa93248bb",
   "metadata": {
    "execution": {
     "iopub.execute_input": "2021-08-09T18:32:58.277421Z",
     "iopub.status.busy": "2021-08-09T18:32:58.277224Z",
     "iopub.status.idle": "2021-08-09T18:32:58.283652Z",
     "shell.execute_reply": "2021-08-09T18:32:58.282966Z",
     "shell.execute_reply.started": "2021-08-09T18:32:58.277403Z"
    }
   },
   "outputs": [],
   "source": [
    "knn = KNeighborsClassifier()"
   ]
  },
  {
   "cell_type": "code",
   "execution_count": 4,
   "id": "a60da55f-0202-4e16-b404-40c33d5b89ed",
   "metadata": {
    "execution": {
     "iopub.execute_input": "2021-08-09T22:31:40.745030Z",
     "iopub.status.busy": "2021-08-09T22:31:40.744750Z",
     "iopub.status.idle": "2021-08-09T22:31:41.122625Z",
     "shell.execute_reply": "2021-08-09T22:31:41.121711Z",
     "shell.execute_reply.started": "2021-08-09T22:31:40.745013Z"
    },
    "tags": []
   },
   "outputs": [],
   "source": [
    "X= data.drop(columns= 'label')\n",
    "y= data['label']\n",
    "X_train,X_test, y_train, y_test = train_test_split(X,y,random_state=42,stratify=y)\n",
    "\n"
   ]
  },
  {
   "cell_type": "markdown",
   "id": "d0a08ef4-6f1b-4011-a6ab-07172f5bd8de",
   "metadata": {
    "execution": {
     "iopub.execute_input": "2021-08-09T20:20:33.725892Z",
     "iopub.status.busy": "2021-08-09T20:20:33.725718Z",
     "iopub.status.idle": "2021-08-09T20:20:33.730667Z",
     "shell.execute_reply": "2021-08-09T20:20:33.730071Z",
     "shell.execute_reply.started": "2021-08-09T20:20:33.725876Z"
    }
   },
   "source": [
    "# Defeault KNN MODEL "
   ]
  },
  {
   "cell_type": "code",
   "execution_count": 5,
   "id": "8fdaad91-248f-4fe8-ad6b-8b4115e5b563",
   "metadata": {
    "execution": {
     "iopub.execute_input": "2021-08-09T22:31:43.667846Z",
     "iopub.status.busy": "2021-08-09T22:31:43.667666Z",
     "iopub.status.idle": "2021-08-09T22:31:44.363327Z",
     "shell.execute_reply": "2021-08-09T22:31:44.362445Z",
     "shell.execute_reply.started": "2021-08-09T22:31:43.667831Z"
    },
    "tags": []
   },
   "outputs": [],
   "source": [
    "# BASELINE KNN MODEL \n",
    "\n",
    "ss= StandardScaler()\n",
    "\n",
    "Z_train = ss.fit_transform(X_train)\n",
    "\n",
    "Z_test = ss.transform(X_test)\n",
    "\n",
    "knn =KNeighborsClassifier(n_jobs=-1)\n",
    "\n",
    "\n",
    "\n",
    "\n"
   ]
  },
  {
   "cell_type": "code",
   "execution_count": 58,
   "id": "9df0b9a0-2846-4a7e-ae00-cba2af53e823",
   "metadata": {
    "execution": {
     "iopub.execute_input": "2021-08-09T18:38:33.579055Z",
     "iopub.status.busy": "2021-08-09T18:38:33.578733Z",
     "iopub.status.idle": "2021-08-09T18:40:03.686015Z",
     "shell.execute_reply": "2021-08-09T18:40:03.685573Z",
     "shell.execute_reply.started": "2021-08-09T18:38:33.579037Z"
    }
   },
   "outputs": [
    {
     "data": {
      "text/plain": [
       "(0.9773555555555555, 0.9674666666666667)"
      ]
     },
     "execution_count": 58,
     "metadata": {},
     "output_type": "execute_result"
    }
   ],
   "source": [
    "knn.fit(Z_train,y_train)\n",
    "knn.score(Z_train,y_train),knn.score(Z_test,y_test)\n"
   ]
  },
  {
   "cell_type": "markdown",
   "id": "50e447fb-050d-493d-9cbf-017e21f3d0e2",
   "metadata": {},
   "source": [
    "##  knn_parameters grid search "
   ]
  },
  {
   "cell_type": "code",
   "execution_count": null,
   "id": "6894c69f-ce9b-44c3-8939-d330c0e4bbc8",
   "metadata": {
    "tags": []
   },
   "outputs": [],
   "source": [
    "from scipy.stats import uniform, randint"
   ]
  },
  {
   "cell_type": "code",
   "execution_count": 64,
   "id": "1db4b30f-944a-4e34-9f4d-8802b09f5459",
   "metadata": {
    "execution": {
     "iopub.execute_input": "2021-08-09T18:49:34.255776Z",
     "iopub.status.busy": "2021-08-09T18:49:34.255588Z",
     "iopub.status.idle": "2021-08-09T19:47:00.895850Z",
     "shell.execute_reply": "2021-08-09T19:47:00.893645Z",
     "shell.execute_reply.started": "2021-08-09T18:49:34.255760Z"
    },
    "tags": []
   },
   "outputs": [
    {
     "name": "stdout",
     "output_type": "stream",
     "text": [
      "Fitting 3 folds for each of 12 candidates, totalling 36 fits\n"
     ]
    },
    {
     "data": {
      "text/plain": [
       "(1.0, 0.9786)"
      ]
     },
     "execution_count": 64,
     "metadata": {},
     "output_type": "execute_result"
    }
   ],
   "source": [
    "knn_parameters = {'n_neighbors':[3,5,7],\n",
    "                  'weights': ['uniform','distance'],\n",
    "                 'p': [1,2]\n",
    "                 }\n",
    "\n",
    "# Instantiate our GridSearchCV object.\n",
    "knn_gs1 = GridSearchCV(knn,param_grid= knn_parameters,cv=3,verbose=2,n_jobs=-1)\n",
    "# \n",
    "knn_gs1.fit(Z_train,y_train)\n",
    "#\n",
    "knn_gs1.score(Z_train,y_train),knn_gs1.score(Z_test,y_test)\n"
   ]
  },
  {
   "cell_type": "code",
   "execution_count": 65,
   "id": "b1f6bc55-171e-48a3-a922-8fbc4964c3bb",
   "metadata": {
    "execution": {
     "iopub.execute_input": "2021-08-09T19:49:33.887473Z",
     "iopub.status.busy": "2021-08-09T19:49:33.887275Z",
     "iopub.status.idle": "2021-08-09T19:49:33.912458Z",
     "shell.execute_reply": "2021-08-09T19:49:33.912140Z",
     "shell.execute_reply.started": "2021-08-09T19:49:33.887455Z"
    }
   },
   "outputs": [
    {
     "data": {
      "text/html": [
       "<div>\n",
       "<style scoped>\n",
       "    .dataframe tbody tr th:only-of-type {\n",
       "        vertical-align: middle;\n",
       "    }\n",
       "\n",
       "    .dataframe tbody tr th {\n",
       "        vertical-align: top;\n",
       "    }\n",
       "\n",
       "    .dataframe thead th {\n",
       "        text-align: right;\n",
       "    }\n",
       "</style>\n",
       "<table border=\"1\" class=\"dataframe\">\n",
       "  <thead>\n",
       "    <tr style=\"text-align: right;\">\n",
       "      <th></th>\n",
       "      <th>mean_fit_time</th>\n",
       "      <th>std_fit_time</th>\n",
       "      <th>mean_score_time</th>\n",
       "      <th>std_score_time</th>\n",
       "      <th>param_n_neighbors</th>\n",
       "      <th>param_p</th>\n",
       "      <th>param_weights</th>\n",
       "      <th>params</th>\n",
       "      <th>split0_test_score</th>\n",
       "      <th>split1_test_score</th>\n",
       "      <th>split2_test_score</th>\n",
       "      <th>mean_test_score</th>\n",
       "      <th>std_test_score</th>\n",
       "      <th>rank_test_score</th>\n",
       "    </tr>\n",
       "  </thead>\n",
       "  <tbody>\n",
       "    <tr>\n",
       "      <th>0</th>\n",
       "      <td>0.169033</td>\n",
       "      <td>0.034479</td>\n",
       "      <td>255.522256</td>\n",
       "      <td>1.198569</td>\n",
       "      <td>3</td>\n",
       "      <td>1</td>\n",
       "      <td>uniform</td>\n",
       "      <td>{'n_neighbors': 3, 'p': 1, 'weights': 'uniform'}</td>\n",
       "      <td>0.975133</td>\n",
       "      <td>0.974467</td>\n",
       "      <td>0.973000</td>\n",
       "      <td>0.974200</td>\n",
       "      <td>0.000891</td>\n",
       "      <td>3</td>\n",
       "    </tr>\n",
       "    <tr>\n",
       "      <th>1</th>\n",
       "      <td>0.126379</td>\n",
       "      <td>0.006628</td>\n",
       "      <td>257.658674</td>\n",
       "      <td>1.511077</td>\n",
       "      <td>3</td>\n",
       "      <td>1</td>\n",
       "      <td>distance</td>\n",
       "      <td>{'n_neighbors': 3, 'p': 1, 'weights': 'distance'}</td>\n",
       "      <td>0.975600</td>\n",
       "      <td>0.976067</td>\n",
       "      <td>0.974000</td>\n",
       "      <td>0.975222</td>\n",
       "      <td>0.000885</td>\n",
       "      <td>1</td>\n",
       "    </tr>\n",
       "    <tr>\n",
       "      <th>2</th>\n",
       "      <td>0.125589</td>\n",
       "      <td>0.006016</td>\n",
       "      <td>19.393170</td>\n",
       "      <td>0.231328</td>\n",
       "      <td>3</td>\n",
       "      <td>2</td>\n",
       "      <td>uniform</td>\n",
       "      <td>{'n_neighbors': 3, 'p': 2, 'weights': 'uniform'}</td>\n",
       "      <td>0.961200</td>\n",
       "      <td>0.964467</td>\n",
       "      <td>0.961867</td>\n",
       "      <td>0.962511</td>\n",
       "      <td>0.001409</td>\n",
       "      <td>10</td>\n",
       "    </tr>\n",
       "    <tr>\n",
       "      <th>3</th>\n",
       "      <td>0.121519</td>\n",
       "      <td>0.006678</td>\n",
       "      <td>19.781373</td>\n",
       "      <td>0.412615</td>\n",
       "      <td>3</td>\n",
       "      <td>2</td>\n",
       "      <td>distance</td>\n",
       "      <td>{'n_neighbors': 3, 'p': 2, 'weights': 'distance'}</td>\n",
       "      <td>0.963333</td>\n",
       "      <td>0.965933</td>\n",
       "      <td>0.963067</td>\n",
       "      <td>0.964111</td>\n",
       "      <td>0.001293</td>\n",
       "      <td>7</td>\n",
       "    </tr>\n",
       "    <tr>\n",
       "      <th>4</th>\n",
       "      <td>0.144598</td>\n",
       "      <td>0.021522</td>\n",
       "      <td>238.838154</td>\n",
       "      <td>2.397297</td>\n",
       "      <td>5</td>\n",
       "      <td>1</td>\n",
       "      <td>uniform</td>\n",
       "      <td>{'n_neighbors': 5, 'p': 1, 'weights': 'uniform'}</td>\n",
       "      <td>0.974133</td>\n",
       "      <td>0.974467</td>\n",
       "      <td>0.973133</td>\n",
       "      <td>0.973911</td>\n",
       "      <td>0.000567</td>\n",
       "      <td>5</td>\n",
       "    </tr>\n",
       "    <tr>\n",
       "      <th>5</th>\n",
       "      <td>0.128543</td>\n",
       "      <td>0.024555</td>\n",
       "      <td>228.367064</td>\n",
       "      <td>7.082681</td>\n",
       "      <td>5</td>\n",
       "      <td>1</td>\n",
       "      <td>distance</td>\n",
       "      <td>{'n_neighbors': 5, 'p': 1, 'weights': 'distance'}</td>\n",
       "      <td>0.974867</td>\n",
       "      <td>0.976200</td>\n",
       "      <td>0.974000</td>\n",
       "      <td>0.975022</td>\n",
       "      <td>0.000905</td>\n",
       "      <td>2</td>\n",
       "    </tr>\n",
       "    <tr>\n",
       "      <th>6</th>\n",
       "      <td>0.182975</td>\n",
       "      <td>0.056800</td>\n",
       "      <td>24.285458</td>\n",
       "      <td>0.724642</td>\n",
       "      <td>5</td>\n",
       "      <td>2</td>\n",
       "      <td>uniform</td>\n",
       "      <td>{'n_neighbors': 5, 'p': 2, 'weights': 'uniform'}</td>\n",
       "      <td>0.961200</td>\n",
       "      <td>0.963533</td>\n",
       "      <td>0.961867</td>\n",
       "      <td>0.962200</td>\n",
       "      <td>0.000981</td>\n",
       "      <td>11</td>\n",
       "    </tr>\n",
       "    <tr>\n",
       "      <th>7</th>\n",
       "      <td>0.201821</td>\n",
       "      <td>0.068967</td>\n",
       "      <td>24.326541</td>\n",
       "      <td>0.702678</td>\n",
       "      <td>5</td>\n",
       "      <td>2</td>\n",
       "      <td>distance</td>\n",
       "      <td>{'n_neighbors': 5, 'p': 2, 'weights': 'distance'}</td>\n",
       "      <td>0.963000</td>\n",
       "      <td>0.965267</td>\n",
       "      <td>0.962800</td>\n",
       "      <td>0.963689</td>\n",
       "      <td>0.001119</td>\n",
       "      <td>8</td>\n",
       "    </tr>\n",
       "    <tr>\n",
       "      <th>8</th>\n",
       "      <td>0.165356</td>\n",
       "      <td>0.071650</td>\n",
       "      <td>235.382353</td>\n",
       "      <td>7.249849</td>\n",
       "      <td>7</td>\n",
       "      <td>1</td>\n",
       "      <td>uniform</td>\n",
       "      <td>{'n_neighbors': 7, 'p': 1, 'weights': 'uniform'}</td>\n",
       "      <td>0.973133</td>\n",
       "      <td>0.973267</td>\n",
       "      <td>0.972400</td>\n",
       "      <td>0.972933</td>\n",
       "      <td>0.000381</td>\n",
       "      <td>6</td>\n",
       "    </tr>\n",
       "    <tr>\n",
       "      <th>9</th>\n",
       "      <td>0.138136</td>\n",
       "      <td>0.035747</td>\n",
       "      <td>222.681901</td>\n",
       "      <td>0.784268</td>\n",
       "      <td>7</td>\n",
       "      <td>1</td>\n",
       "      <td>distance</td>\n",
       "      <td>{'n_neighbors': 7, 'p': 1, 'weights': 'distance'}</td>\n",
       "      <td>0.974000</td>\n",
       "      <td>0.975267</td>\n",
       "      <td>0.973067</td>\n",
       "      <td>0.974111</td>\n",
       "      <td>0.000902</td>\n",
       "      <td>4</td>\n",
       "    </tr>\n",
       "    <tr>\n",
       "      <th>10</th>\n",
       "      <td>0.116577</td>\n",
       "      <td>0.006900</td>\n",
       "      <td>20.513987</td>\n",
       "      <td>0.573685</td>\n",
       "      <td>7</td>\n",
       "      <td>2</td>\n",
       "      <td>uniform</td>\n",
       "      <td>{'n_neighbors': 7, 'p': 2, 'weights': 'uniform'}</td>\n",
       "      <td>0.961267</td>\n",
       "      <td>0.962600</td>\n",
       "      <td>0.961867</td>\n",
       "      <td>0.961911</td>\n",
       "      <td>0.000545</td>\n",
       "      <td>12</td>\n",
       "    </tr>\n",
       "    <tr>\n",
       "      <th>11</th>\n",
       "      <td>0.107889</td>\n",
       "      <td>0.001733</td>\n",
       "      <td>20.363069</td>\n",
       "      <td>0.427426</td>\n",
       "      <td>7</td>\n",
       "      <td>2</td>\n",
       "      <td>distance</td>\n",
       "      <td>{'n_neighbors': 7, 'p': 2, 'weights': 'distance'}</td>\n",
       "      <td>0.962800</td>\n",
       "      <td>0.964533</td>\n",
       "      <td>0.962533</td>\n",
       "      <td>0.963289</td>\n",
       "      <td>0.000887</td>\n",
       "      <td>9</td>\n",
       "    </tr>\n",
       "  </tbody>\n",
       "</table>\n",
       "</div>"
      ],
      "text/plain": [
       "    mean_fit_time  std_fit_time  mean_score_time  std_score_time  \\\n",
       "0        0.169033      0.034479       255.522256        1.198569   \n",
       "1        0.126379      0.006628       257.658674        1.511077   \n",
       "2        0.125589      0.006016        19.393170        0.231328   \n",
       "3        0.121519      0.006678        19.781373        0.412615   \n",
       "4        0.144598      0.021522       238.838154        2.397297   \n",
       "5        0.128543      0.024555       228.367064        7.082681   \n",
       "6        0.182975      0.056800        24.285458        0.724642   \n",
       "7        0.201821      0.068967        24.326541        0.702678   \n",
       "8        0.165356      0.071650       235.382353        7.249849   \n",
       "9        0.138136      0.035747       222.681901        0.784268   \n",
       "10       0.116577      0.006900        20.513987        0.573685   \n",
       "11       0.107889      0.001733        20.363069        0.427426   \n",
       "\n",
       "   param_n_neighbors param_p param_weights  \\\n",
       "0                  3       1       uniform   \n",
       "1                  3       1      distance   \n",
       "2                  3       2       uniform   \n",
       "3                  3       2      distance   \n",
       "4                  5       1       uniform   \n",
       "5                  5       1      distance   \n",
       "6                  5       2       uniform   \n",
       "7                  5       2      distance   \n",
       "8                  7       1       uniform   \n",
       "9                  7       1      distance   \n",
       "10                 7       2       uniform   \n",
       "11                 7       2      distance   \n",
       "\n",
       "                                               params  split0_test_score  \\\n",
       "0    {'n_neighbors': 3, 'p': 1, 'weights': 'uniform'}           0.975133   \n",
       "1   {'n_neighbors': 3, 'p': 1, 'weights': 'distance'}           0.975600   \n",
       "2    {'n_neighbors': 3, 'p': 2, 'weights': 'uniform'}           0.961200   \n",
       "3   {'n_neighbors': 3, 'p': 2, 'weights': 'distance'}           0.963333   \n",
       "4    {'n_neighbors': 5, 'p': 1, 'weights': 'uniform'}           0.974133   \n",
       "5   {'n_neighbors': 5, 'p': 1, 'weights': 'distance'}           0.974867   \n",
       "6    {'n_neighbors': 5, 'p': 2, 'weights': 'uniform'}           0.961200   \n",
       "7   {'n_neighbors': 5, 'p': 2, 'weights': 'distance'}           0.963000   \n",
       "8    {'n_neighbors': 7, 'p': 1, 'weights': 'uniform'}           0.973133   \n",
       "9   {'n_neighbors': 7, 'p': 1, 'weights': 'distance'}           0.974000   \n",
       "10   {'n_neighbors': 7, 'p': 2, 'weights': 'uniform'}           0.961267   \n",
       "11  {'n_neighbors': 7, 'p': 2, 'weights': 'distance'}           0.962800   \n",
       "\n",
       "    split1_test_score  split2_test_score  mean_test_score  std_test_score  \\\n",
       "0            0.974467           0.973000         0.974200        0.000891   \n",
       "1            0.976067           0.974000         0.975222        0.000885   \n",
       "2            0.964467           0.961867         0.962511        0.001409   \n",
       "3            0.965933           0.963067         0.964111        0.001293   \n",
       "4            0.974467           0.973133         0.973911        0.000567   \n",
       "5            0.976200           0.974000         0.975022        0.000905   \n",
       "6            0.963533           0.961867         0.962200        0.000981   \n",
       "7            0.965267           0.962800         0.963689        0.001119   \n",
       "8            0.973267           0.972400         0.972933        0.000381   \n",
       "9            0.975267           0.973067         0.974111        0.000902   \n",
       "10           0.962600           0.961867         0.961911        0.000545   \n",
       "11           0.964533           0.962533         0.963289        0.000887   \n",
       "\n",
       "    rank_test_score  \n",
       "0                 3  \n",
       "1                 1  \n",
       "2                10  \n",
       "3                 7  \n",
       "4                 5  \n",
       "5                 2  \n",
       "6                11  \n",
       "7                 8  \n",
       "8                 6  \n",
       "9                 4  \n",
       "10               12  \n",
       "11                9  "
      ]
     },
     "execution_count": 65,
     "metadata": {},
     "output_type": "execute_result"
    }
   ],
   "source": [
    "pd.DataFrame(knn_gs1.cv_results_)"
   ]
  },
  {
   "cell_type": "markdown",
   "id": "d7ff6c67-23b9-4e36-aec9-5521b9439ca2",
   "metadata": {},
   "source": [
    "{'n_neighbors': 3, 'p': 1, 'weights': 'uniform'}"
   ]
  },
  {
   "cell_type": "markdown",
   "id": "279cfa3d-db81-4b21-8b4c-79263f996009",
   "metadata": {
    "execution": {
     "iopub.execute_input": "2021-08-09T20:22:20.212049Z",
     "iopub.status.busy": "2021-08-09T20:22:20.211806Z",
     "iopub.status.idle": "2021-08-09T20:22:20.214543Z",
     "shell.execute_reply": "2021-08-09T20:22:20.214158Z",
     "shell.execute_reply.started": "2021-08-09T20:22:20.212033Z"
    }
   },
   "source": [
    "## KNeighborsClassifier(n_jobs=-1,n_neighbors=3, p=1,weights='uniform')"
   ]
  },
  {
   "cell_type": "code",
   "execution_count": null,
   "id": "c311ad2d-63f5-4d18-91cd-302c62a35b20",
   "metadata": {},
   "outputs": [],
   "source": []
  },
  {
   "cell_type": "code",
   "execution_count": 67,
   "id": "d5636014-2506-4db7-8219-a516ce9fe33a",
   "metadata": {
    "execution": {
     "iopub.execute_input": "2021-08-09T20:07:33.756023Z",
     "iopub.status.busy": "2021-08-09T20:07:33.755652Z",
     "iopub.status.idle": "2021-08-09T20:07:33.758789Z",
     "shell.execute_reply": "2021-08-09T20:07:33.758400Z",
     "shell.execute_reply.started": "2021-08-09T20:07:33.756005Z"
    }
   },
   "outputs": [],
   "source": [
    "# define update knn \n",
    "knn2= KNeighborsClassifier(n_jobs=-1,n_neighbors=3, p=1,weights='uniform')\n",
    "knn2.fit(Z_train,y_train)\n",
    "knn2.score(Z_train,y_train),knn2.score(Z_test,y_test)\n"
   ]
  },
  {
   "cell_type": "markdown",
   "id": "8ceab37c-f4ef-4cc4-b0e8-38568680f13c",
   "metadata": {},
   "source": [
    " ### pint, default=2\n",
    "Power parameter for the Minkowski metric. When p = 1, this is equivalent to using manhattan_distance (l1), and euclidean_distance (l2) for p = 2. For arbitrary p, minkowski_distance (l_p) is used."
   ]
  },
  {
   "cell_type": "code",
   "execution_count": null,
   "id": "83fce597-1ad6-45e5-9edd-d3b9a0aad8b1",
   "metadata": {},
   "outputs": [],
   "source": [
    "knn_parameters = {'n_neighbors':[3,5,7],\n",
    "                  'weights': ['uniform','distance'],\n",
    "                 'p': [1,2]\n",
    "                 }\n",
    "\n",
    "# Instantiate our GridSearchCV object.\n",
    "knn_gs1 = GridSearchCV(knn,param_grid= knn_parameters,cv=3,verbose=2,n_jobs=-1)\n",
    "# \n",
    "knn_gs1.fit(Z_train,y_train)\n",
    "#\n",
    "knn_gs1.score(Z_train,y_train),knn_gs1.score(Z_test,y_test)\n"
   ]
  },
  {
   "cell_type": "markdown",
   "id": "0fe4b8e8-097e-4bfd-87bf-b3e37fa33008",
   "metadata": {},
   "source": [
    "see if algorithm makes a difference \n",
    "\n",
    "algorithm{‘auto’, ‘ball_tree’, ‘kd_tree’, ‘brute’}, default=’auto’\n",
    "Algorithm used to compute the nearest neighbors:\n",
    "\n",
    "‘ball_tree’ will use BallTree\n",
    "\n",
    "‘kd_tree’ will use KDTree\n",
    "\n",
    "‘brute’ will use a brute-force search.\n",
    "\n",
    "‘auto’ will attempt to decide the most appropriate algorithm based on the values passed to fit method.\n",
    "\n",
    "Note: fitting on sparse input will override the setting of this parameter, using brute force.\n",
    "\n"
   ]
  },
  {
   "cell_type": "code",
   "execution_count": 70,
   "id": "c14abc4c-ce02-4024-bc26-181b835e97ab",
   "metadata": {
    "execution": {
     "iopub.execute_input": "2021-08-09T20:15:19.162441Z",
     "iopub.status.busy": "2021-08-09T20:15:19.162248Z",
     "iopub.status.idle": "2021-08-09T20:15:19.171722Z",
     "shell.execute_reply": "2021-08-09T20:15:19.170793Z",
     "shell.execute_reply.started": "2021-08-09T20:15:19.162423Z"
    }
   },
   "outputs": [
    {
     "data": {
      "text/plain": [
       "KNeighborsClassifier(n_jobs=-1, n_neighbors=3, p=1)"
      ]
     },
     "execution_count": 70,
     "metadata": {},
     "output_type": "execute_result"
    }
   ],
   "source": [
    "knn2"
   ]
  },
  {
   "cell_type": "code",
   "execution_count": null,
   "id": "900c874a-de01-40ad-85eb-ccc9458217c8",
   "metadata": {},
   "outputs": [],
   "source": []
  },
  {
   "cell_type": "code",
   "execution_count": null,
   "id": "66fcfd54-40ce-45a8-bce0-624b003c7c99",
   "metadata": {
    "tags": []
   },
   "outputs": [],
   "source": [
    "# took longer then 2 min maybe come back to this \n",
    "knn3= KNeighborsClassifier(n_jobs=-1, n_neighbors=3, p=1,algorithm='ball_tree')\n",
    "knn3.fit(Z_train,y_train)\n",
    "knn3.score(Z_train,y_train),knn3.score(Z_test,y_test)"
   ]
  },
  {
   "cell_type": "code",
   "execution_count": null,
   "id": "fe69f092-dd32-44c2-ba05-f1d46a79068f",
   "metadata": {},
   "outputs": [],
   "source": []
  },
  {
   "cell_type": "code",
   "execution_count": 69,
   "id": "9ce02c96-92a2-485a-b2c5-568d17e63a6e",
   "metadata": {
    "execution": {
     "iopub.execute_input": "2021-08-09T20:13:00.002880Z",
     "iopub.status.busy": "2021-08-09T20:13:00.002678Z",
     "iopub.status.idle": "2021-08-09T20:13:00.009360Z",
     "shell.execute_reply": "2021-08-09T20:13:00.008688Z",
     "shell.execute_reply.started": "2021-08-09T20:13:00.002863Z"
    }
   },
   "outputs": [],
   "source": [
    "import random "
   ]
  },
  {
   "cell_type": "code",
   "execution_count": null,
   "id": "3fd7b973-94a7-4376-ac5b-6d401c646638",
   "metadata": {
    "tags": []
   },
   "outputs": [],
   "source": [
    "knn_parameters2 = { 'algorithm': ['ball_tree','auto']\n",
    "                   \n",
    "                 }\n",
    "\n",
    "# Instantiate our GridSearchCV object.\n",
    "knn_gs2 = GridSearchCV(knn2,param_grid= knn_parameters2,cv=3,verbose=2,n_jobs=-1)\n",
    "# \n",
    "knn_gs2.fit(Z_train,y_train)\n",
    "#\n",
    "knn_gs2.score(Z_train,y_train),knn_gs1.score(Z_test,y_test)"
   ]
  },
  {
   "cell_type": "markdown",
   "id": "22829efa-466f-4d38-9ce6-d83e3cc3647d",
   "metadata": {},
   "source": [
    "# Gradient Boosting Models"
   ]
  },
  {
   "cell_type": "code",
   "execution_count": 74,
   "id": "33c91b52-5ee6-4959-bdbe-f621dd23bec9",
   "metadata": {
    "execution": {
     "iopub.execute_input": "2021-08-09T20:29:15.213850Z",
     "iopub.status.busy": "2021-08-09T20:29:15.213675Z",
     "iopub.status.idle": "2021-08-09T20:29:15.245439Z",
     "shell.execute_reply": "2021-08-09T20:29:15.244907Z",
     "shell.execute_reply.started": "2021-08-09T20:29:15.213835Z"
    }
   },
   "outputs": [],
   "source": [
    "from sklearn.ensemble import GradientBoostingClassifier, \\\n",
    "                            AdaBoostClassifier, \\\n",
    "                            VotingClassifier, \\\n",
    "                            RandomForestClassifier\n",
    "\n",
    "from sklearn.tree import DecisionTreeClassifier\n",
    "\n",
    "from sklearn.neighbors import KNeighborsClassifier\n",
    "\n",
    "from sklearn.pipeline import Pipeline\n",
    "\n",
    "from sklearn.preprocessing import StandardScaler\n",
    "\n",
    "from sklearn.model_selection import train_test_split, GridSearchCV, KFold, cross_val_score"
   ]
  },
  {
   "cell_type": "code",
   "execution_count": 76,
   "id": "7386981f-03a0-4678-b8ea-65dad722748f",
   "metadata": {
    "execution": {
     "iopub.execute_input": "2021-08-09T20:35:11.705409Z",
     "iopub.status.busy": "2021-08-09T20:35:11.705110Z",
     "iopub.status.idle": "2021-08-09T20:51:34.616117Z",
     "shell.execute_reply": "2021-08-09T20:51:34.615528Z",
     "shell.execute_reply.started": "2021-08-09T20:35:11.705391Z"
    },
    "tags": []
   },
   "outputs": [
    {
     "name": "stdout",
     "output_type": "stream",
     "text": [
      "      Iter       Train Loss   Remaining Time \n",
      "         1           1.8253           16.25m\n",
      "         2           1.5711           16.06m\n",
      "         3           1.3956           15.86m\n",
      "         4           1.2490           15.69m\n",
      "         5           1.1300           15.52m\n",
      "         6           1.0359           15.34m\n",
      "         7           0.9508           15.18m\n",
      "         8           0.8819           15.02m\n",
      "         9           0.8159           14.85m\n",
      "        10           0.7597           14.68m\n",
      "        11           0.7089           14.53m\n",
      "        12           0.6660           14.37m\n",
      "        13           0.6259           14.26m\n",
      "        14           0.5917           14.15m\n",
      "        15           0.5580           13.98m\n",
      "        16           0.5289           13.83m\n",
      "        17           0.4995           13.68m\n",
      "        18           0.4742           13.52m\n",
      "        19           0.4524           13.35m\n",
      "        20           0.4300           13.18m\n",
      "        21           0.4118           13.01m\n",
      "        22           0.3939           12.84m\n",
      "        23           0.3781           12.68m\n",
      "        24           0.3638           12.51m\n",
      "        25           0.3488           12.35m\n",
      "        26           0.3362           12.19m\n",
      "        27           0.3248           12.02m\n",
      "        28           0.3137           11.85m\n",
      "        29           0.3041           11.69m\n",
      "        30           0.2946           11.52m\n",
      "        31           0.2847           11.36m\n",
      "        32           0.2761           11.21m\n",
      "        33           0.2682           11.04m\n",
      "        34           0.2605           10.87m\n",
      "        35           0.2536           10.70m\n",
      "        36           0.2474           10.53m\n",
      "        37           0.2415           10.36m\n",
      "        38           0.2348           10.19m\n",
      "        39           0.2289           10.02m\n",
      "        40           0.2237            9.85m\n",
      "        41           0.2184            9.68m\n",
      "        42           0.2136            9.51m\n",
      "        43           0.2087            9.35m\n",
      "        44           0.2041            9.18m\n",
      "        45           0.1992            9.01m\n",
      "        46           0.1949            8.84m\n",
      "        47           0.1911            8.68m\n",
      "        48           0.1877            8.51m\n",
      "        49           0.1840            8.35m\n",
      "        50           0.1805            8.19m\n",
      "        51           0.1769            8.02m\n",
      "        52           0.1739            7.86m\n",
      "        53           0.1714            7.70m\n",
      "        54           0.1682            7.53m\n",
      "        55           0.1647            7.37m\n",
      "        56           0.1617            7.20m\n",
      "        57           0.1591            7.04m\n",
      "        58           0.1565            6.87m\n",
      "        59           0.1539            6.71m\n",
      "        60           0.1517            6.54m\n",
      "        61           0.1494            6.38m\n",
      "        62           0.1470            6.21m\n",
      "        63           0.1446            6.05m\n",
      "        64           0.1424            5.88m\n",
      "        65           0.1404            5.72m\n",
      "        66           0.1382            5.56m\n",
      "        67           0.1358            5.39m\n",
      "        68           0.1337            5.23m\n",
      "        69           0.1321            5.06m\n",
      "        70           0.1304            4.90m\n",
      "        71           0.1283            4.73m\n",
      "        72           0.1264            4.57m\n",
      "        73           0.1247            4.41m\n",
      "        74           0.1229            4.24m\n",
      "        75           0.1212            4.08m\n",
      "        76           0.1194            3.92m\n",
      "        77           0.1175            3.76m\n",
      "        78           0.1159            3.59m\n",
      "        79           0.1147            3.43m\n",
      "        80           0.1132            3.27m\n",
      "        81           0.1117            3.10m\n",
      "        82           0.1102            2.94m\n",
      "        83           0.1088            2.78m\n",
      "        84           0.1075            2.62m\n",
      "        85           0.1065            2.45m\n",
      "        86           0.1052            2.29m\n",
      "        87           0.1038            2.12m\n",
      "        88           0.1024            1.96m\n",
      "        89           0.1013            1.80m\n",
      "        90           0.1003            1.63m\n",
      "        91           0.0991            1.47m\n",
      "        92           0.0981            1.31m\n",
      "        93           0.0971            1.14m\n",
      "        94           0.0961           58.80s\n",
      "        95           0.0949           49.00s\n",
      "        96           0.0941           39.19s\n",
      "        97           0.0930           29.39s\n",
      "        98           0.0921           19.60s\n",
      "        99           0.0910            9.80s\n",
      "       100           0.0902            0.00s\n"
     ]
    },
    {
     "data": {
      "text/plain": [
       "(0.9816666666666667, 0.969)"
      ]
     },
     "execution_count": 76,
     "metadata": {},
     "output_type": "execute_result"
    }
   ],
   "source": [
    "# Default hyperparameters \n",
    "\n",
    "gbc= GradientBoostingClassifier(random_state=42,verbose=2)\n",
    "\n",
    "gbc.fit(Z_train,y_train)\n",
    "\n",
    "gbc.score(Z_train,y_train),gbc.score(Z_test,y_test)"
   ]
  },
  {
   "cell_type": "markdown",
   "id": "c7994444-a702-4790-8b2a-ab90fb0bd715",
   "metadata": {},
   "source": [
    "## max_depth =5 "
   ]
  },
  {
   "cell_type": "code",
   "execution_count": 87,
   "id": "3abaf5d5-ec07-4bc8-b388-c4d3ab5fe616",
   "metadata": {
    "execution": {
     "iopub.execute_input": "2021-08-09T21:41:27.887123Z",
     "iopub.status.busy": "2021-08-09T21:41:27.886949Z",
     "iopub.status.idle": "2021-08-09T22:09:56.740176Z",
     "shell.execute_reply": "2021-08-09T22:09:56.739546Z",
     "shell.execute_reply.started": "2021-08-09T21:41:27.887107Z"
    }
   },
   "outputs": [
    {
     "name": "stdout",
     "output_type": "stream",
     "text": [
      "      Iter       Train Loss   Remaining Time \n",
      "         1           1.6956           28.43m\n",
      "         2           1.4040           28.02m\n",
      "         3           1.2002           27.74m\n",
      "         4           1.0421           27.35m\n",
      "         5           0.9188           27.07m\n",
      "         6           0.8142           26.84m\n",
      "         7           0.7272           26.59m\n",
      "         8           0.6523           26.24m\n",
      "         9           0.5894           25.95m\n",
      "        10           0.5338           25.67m\n",
      "        11           0.4859           25.38m\n",
      "        12           0.4438           25.09m\n",
      "        13           0.4057           24.80m\n",
      "        14           0.3735           24.50m\n",
      "        15           0.3451           24.20m\n",
      "        16           0.3200           23.91m\n",
      "        17           0.2966           23.62m\n",
      "        18           0.2756           23.35m\n",
      "        19           0.2571           23.07m\n",
      "        20           0.2406           22.77m\n",
      "        21           0.2251           22.47m\n",
      "        22           0.2113           22.17m\n",
      "        23           0.1988           21.88m\n",
      "        24           0.1875           21.59m\n",
      "        25           0.1771           21.30m\n",
      "        26           0.1673           21.00m\n",
      "        27           0.1582           20.72m\n",
      "        28           0.1504           20.43m\n",
      "        29           0.1432           20.14m\n",
      "        30           0.1365           19.84m\n",
      "        31           0.1308           19.55m\n",
      "        32           0.1243           19.27m\n",
      "        33           0.1191           18.97m\n",
      "        34           0.1143           18.68m\n",
      "        35           0.1097           18.40m\n",
      "        36           0.1055           18.12m\n",
      "        37           0.1017           17.83m\n",
      "        38           0.0980           17.54m\n",
      "        39           0.0944           17.25m\n",
      "        40           0.0910           16.96m\n",
      "        41           0.0873           16.68m\n",
      "        42           0.0841           16.39m\n",
      "        43           0.0814           16.10m\n",
      "        44           0.0782           15.81m\n",
      "        45           0.0756           15.52m\n",
      "        46           0.0732           15.23m\n",
      "        47           0.0708           14.95m\n",
      "        48           0.0685           14.66m\n",
      "        49           0.0661           14.38m\n",
      "        50           0.0642           14.09m\n",
      "        51           0.0622           13.80m\n",
      "        52           0.0602           13.51m\n",
      "        53           0.0583           13.23m\n",
      "        54           0.0565           12.94m\n",
      "        55           0.0550           12.66m\n",
      "        56           0.0535           12.37m\n",
      "        57           0.0520           12.09m\n",
      "        58           0.0505           11.81m\n",
      "        59           0.0493           11.53m\n",
      "        60           0.0480           11.25m\n",
      "        61           0.0465           10.97m\n",
      "        62           0.0454           10.69m\n",
      "        63           0.0441           10.42m\n",
      "        64           0.0428           10.14m\n",
      "        65           0.0417            9.86m\n",
      "        66           0.0406            9.58m\n",
      "        67           0.0395            9.30m\n",
      "        68           0.0385            9.02m\n",
      "        69           0.0377            8.74m\n",
      "        70           0.0367            8.46m\n",
      "        71           0.0358            8.18m\n",
      "        72           0.0348            7.90m\n",
      "        73           0.0340            7.63m\n",
      "        74           0.0331            7.35m\n",
      "        75           0.0323            7.07m\n",
      "        76           0.0316            6.78m\n",
      "        77           0.0308            6.51m\n",
      "        78           0.0299            6.23m\n",
      "        79           0.0291            5.95m\n",
      "        80           0.0285            5.67m\n",
      "        81           0.0277            5.39m\n",
      "        82           0.0270            5.10m\n",
      "        83           0.0264            4.82m\n",
      "        84           0.0259            4.54m\n",
      "        85           0.0252            4.26m\n",
      "        86           0.0246            3.97m\n",
      "        87           0.0239            3.69m\n",
      "        88           0.0234            3.41m\n",
      "        89           0.0228            3.12m\n",
      "        90           0.0223            2.84m\n",
      "        91           0.0218            2.56m\n",
      "        92           0.0213            2.27m\n",
      "        93           0.0209            1.99m\n",
      "        94           0.0204            1.70m\n",
      "        95           0.0200            1.42m\n",
      "        96           0.0195            1.14m\n",
      "        97           0.0191           51.12s\n",
      "        98           0.0186           34.08s\n",
      "        99           0.0183           17.04s\n",
      "       100           0.0180            0.00s\n"
     ]
    },
    {
     "data": {
      "text/plain": [
       "(0.9992666666666666, 0.9790666666666666)"
      ]
     },
     "execution_count": 87,
     "metadata": {},
     "output_type": "execute_result"
    }
   ],
   "source": [
    "gbc1= GradientBoostingClassifier(random_state=42,verbose=2, max_depth=5)\n",
    "\n",
    "gbc1.fit(Z_train,y_train)\n",
    "\n",
    "gbc1.score(Z_train,y_train),gbc1.score(Z_test,y_test)"
   ]
  },
  {
   "cell_type": "code",
   "execution_count": null,
   "id": "d2f6816c-40e9-4b9e-8c88-bebbdea3d45f",
   "metadata": {
    "jupyter": {
     "source_hidden": true
    },
    "tags": []
   },
   "outputs": [],
   "source": [
    "# \n",
    "\n",
    "gbc1= GradientBoostingClassifier(random_state=42,verbose=2,loss='exponential')\n",
    "\n",
    "knn_parameters = {'n_neighbors':[3,5,7],\n",
    "                  'weights': ['uniform','distance'],\n",
    "                 'p': [1,2]\n",
    "                 }\n",
    "\n",
    "# Instantiate our GridSearchCV object.\n",
    "knn_gs1 = GridSearchCV(knn,param_grid= knn_parameters,cv=3,verbose=2,n_jobs=-1)\n",
    "# \n",
    "knn_gs1.fit(Z_train,y_train)\n",
    "#\n",
    "knn_gs1.score(Z_train,y_train),knn_gs1.score(Z_test,y_test)\n"
   ]
  },
  {
   "cell_type": "code",
   "execution_count": null,
   "id": "fa740078-2050-4ebd-9a30-dbe112283cfe",
   "metadata": {},
   "outputs": [],
   "source": []
  },
  {
   "cell_type": "code",
   "execution_count": null,
   "id": "f3366214-f618-4e74-ac52-0a8bf71d854f",
   "metadata": {},
   "outputs": [],
   "source": []
  },
  {
   "cell_type": "markdown",
   "id": "deea7fbb-bcc5-401b-8b83-bbcb32485377",
   "metadata": {},
   "source": [
    "# XGBoost\n",
    "\n",
    "## Default Hyperparamters"
   ]
  },
  {
   "cell_type": "code",
   "execution_count": 10,
   "id": "c3c14ab5-8f68-4e52-b629-cb61b974a20a",
   "metadata": {
    "execution": {
     "iopub.execute_input": "2021-08-09T22:22:34.451161Z",
     "iopub.status.busy": "2021-08-09T22:22:34.450965Z",
     "iopub.status.idle": "2021-08-09T22:22:34.469433Z",
     "shell.execute_reply": "2021-08-09T22:22:34.468903Z",
     "shell.execute_reply.started": "2021-08-09T22:22:34.451143Z"
    },
    "tags": []
   },
   "outputs": [],
   "source": [
    "from xgboost import XGBRegressor, XGBClassifier"
   ]
  },
  {
   "cell_type": "code",
   "execution_count": null,
   "id": "225cb41f-6c5a-43e0-a74d-8489f3c6a739",
   "metadata": {
    "execution": {
     "iopub.execute_input": "2021-08-09T22:24:54.467352Z",
     "iopub.status.busy": "2021-08-09T22:24:54.467170Z"
    },
    "tags": []
   },
   "outputs": [
    {
     "name": "stdout",
     "output_type": "stream",
     "text": [
      "[18:24:59] WARNING: ../src/learner.cc:1095: Starting in XGBoost 1.3.0, the default evaluation metric used with the objective 'multi:softprob' was changed from 'merror' to 'mlogloss'. Explicitly set eval_metric if you'd like to restore the old behavior.\n"
     ]
    }
   ],
   "source": [
    "xgb = XGBClassifier(verbosity=1,n_jobs=-1,random_state=42)\n",
    "\n",
    "xgb.fit(Z_train,y_train)\n",
    "\n",
    "xgb.score(Z_train,y_train),xgb.score(Z_test,y_test)"
   ]
  },
  {
   "cell_type": "markdown",
   "id": "bc472ce2-8518-441d-9893-809d2b8690e9",
   "metadata": {
    "execution": {
     "iopub.execute_input": "2021-08-09T20:59:33.221737Z",
     "iopub.status.busy": "2021-08-09T20:59:33.221525Z",
     "iopub.status.idle": "2021-08-09T20:59:44.194351Z",
     "shell.execute_reply": "2021-08-09T20:59:44.192864Z",
     "shell.execute_reply.started": "2021-08-09T20:59:33.221718Z"
    },
    "tags": []
   },
   "source": [
    "## try Boosters \n",
    "\n",
    "booster [default= gbtree ]\n",
    "\n",
    "Which booster to use. Can be gbtree, gblinear or dart; gbtree and dart use tree based models while gblinear uses linear functions."
   ]
  },
  {
   "cell_type": "code",
   "execution_count": 83,
   "id": "25f79599-e1ad-48e7-99ad-e01bda3fcd6f",
   "metadata": {
    "execution": {
     "iopub.execute_input": "2021-08-09T21:14:47.546673Z",
     "iopub.status.busy": "2021-08-09T21:14:47.546393Z",
     "iopub.status.idle": "2021-08-09T21:25:49.088660Z",
     "shell.execute_reply": "2021-08-09T21:25:49.088294Z",
     "shell.execute_reply.started": "2021-08-09T21:14:47.546657Z"
    },
    "tags": []
   },
   "outputs": [
    {
     "name": "stdout",
     "output_type": "stream",
     "text": [
      "Fitting 3 folds for each of 3 candidates, totalling 9 fits\n"
     ]
    },
    {
     "data": {
      "text/plain": [
       "(0.9678156680122355, 0.9347266075295216)"
      ]
     },
     "execution_count": 83,
     "metadata": {},
     "output_type": "execute_result"
    }
   ],
   "source": [
    "xgb1 = XGBClassifier(verbosity=1,n_jobs=-1,random_state=42)\n",
    "\n",
    "xgb1_parameters = {'booster':['gbtree', 'gblinear','dart'],\n",
    "                 }\n",
    "\n",
    "# Instantiate our GridSearchCV object.\n",
    "xgb_gs1 = GridSearchCV(xgb,param_grid= xgb1_parameters,cv=3,verbose=2,n_jobs=-1)\n",
    "# \n",
    "xgb_gs1.fit(Z_train,y_train)\n",
    "#\n",
    "xgb_gs1.score(Z_train,y_train),xgb_gs1.score(Z_test,y_test)"
   ]
  },
  {
   "cell_type": "code",
   "execution_count": 86,
   "id": "f08f9381-6b23-4953-a453-ec61bb5a6cf3",
   "metadata": {
    "execution": {
     "iopub.execute_input": "2021-08-09T21:27:25.050555Z",
     "iopub.status.busy": "2021-08-09T21:27:25.050222Z",
     "iopub.status.idle": "2021-08-09T21:27:25.063909Z",
     "shell.execute_reply": "2021-08-09T21:27:25.062636Z",
     "shell.execute_reply.started": "2021-08-09T21:27:25.050536Z"
    },
    "tags": []
   },
   "outputs": [
    {
     "data": {
      "text/html": [
       "<div>\n",
       "<style scoped>\n",
       "    .dataframe tbody tr th:only-of-type {\n",
       "        vertical-align: middle;\n",
       "    }\n",
       "\n",
       "    .dataframe tbody tr th {\n",
       "        vertical-align: top;\n",
       "    }\n",
       "\n",
       "    .dataframe thead th {\n",
       "        text-align: right;\n",
       "    }\n",
       "</style>\n",
       "<table border=\"1\" class=\"dataframe\">\n",
       "  <thead>\n",
       "    <tr style=\"text-align: right;\">\n",
       "      <th></th>\n",
       "      <th>mean_fit_time</th>\n",
       "      <th>std_fit_time</th>\n",
       "      <th>mean_score_time</th>\n",
       "      <th>std_score_time</th>\n",
       "      <th>param_booster</th>\n",
       "      <th>params</th>\n",
       "      <th>split0_test_score</th>\n",
       "      <th>split1_test_score</th>\n",
       "      <th>split2_test_score</th>\n",
       "      <th>mean_test_score</th>\n",
       "      <th>std_test_score</th>\n",
       "      <th>rank_test_score</th>\n",
       "    </tr>\n",
       "  </thead>\n",
       "  <tbody>\n",
       "    <tr>\n",
       "      <th>0</th>\n",
       "      <td>56.106416</td>\n",
       "      <td>1.658262</td>\n",
       "      <td>0.086644</td>\n",
       "      <td>0.003081</td>\n",
       "      <td>gbtree</td>\n",
       "      <td>{'booster': 'gbtree'}</td>\n",
       "      <td>0.933438</td>\n",
       "      <td>0.931077</td>\n",
       "      <td>0.929068</td>\n",
       "      <td>0.931194</td>\n",
       "      <td>0.001786</td>\n",
       "      <td>2</td>\n",
       "    </tr>\n",
       "    <tr>\n",
       "      <th>1</th>\n",
       "      <td>7.892709</td>\n",
       "      <td>0.349983</td>\n",
       "      <td>0.168861</td>\n",
       "      <td>0.005440</td>\n",
       "      <td>gblinear</td>\n",
       "      <td>{'booster': 'gblinear'}</td>\n",
       "      <td>-25898.684943</td>\n",
       "      <td>-19200.012619</td>\n",
       "      <td>-22037.473770</td>\n",
       "      <td>-22378.723777</td>\n",
       "      <td>2745.346536</td>\n",
       "      <td>3</td>\n",
       "    </tr>\n",
       "    <tr>\n",
       "      <th>2</th>\n",
       "      <td>208.669241</td>\n",
       "      <td>49.519535</td>\n",
       "      <td>4.724973</td>\n",
       "      <td>1.602791</td>\n",
       "      <td>dart</td>\n",
       "      <td>{'booster': 'dart'}</td>\n",
       "      <td>0.933438</td>\n",
       "      <td>0.931077</td>\n",
       "      <td>0.929068</td>\n",
       "      <td>0.931194</td>\n",
       "      <td>0.001786</td>\n",
       "      <td>1</td>\n",
       "    </tr>\n",
       "  </tbody>\n",
       "</table>\n",
       "</div>"
      ],
      "text/plain": [
       "   mean_fit_time  std_fit_time  mean_score_time  std_score_time param_booster  \\\n",
       "0      56.106416      1.658262         0.086644        0.003081        gbtree   \n",
       "1       7.892709      0.349983         0.168861        0.005440      gblinear   \n",
       "2     208.669241     49.519535         4.724973        1.602791          dart   \n",
       "\n",
       "                    params  split0_test_score  split1_test_score  \\\n",
       "0    {'booster': 'gbtree'}           0.933438           0.931077   \n",
       "1  {'booster': 'gblinear'}      -25898.684943      -19200.012619   \n",
       "2      {'booster': 'dart'}           0.933438           0.931077   \n",
       "\n",
       "   split2_test_score  mean_test_score  std_test_score  rank_test_score  \n",
       "0           0.929068         0.931194        0.001786                2  \n",
       "1      -22037.473770    -22378.723777     2745.346536                3  \n",
       "2           0.929068         0.931194        0.001786                1  "
      ]
     },
     "execution_count": 86,
     "metadata": {},
     "output_type": "execute_result"
    }
   ],
   "source": [
    "pd.DataFrame(xgb_gs1.cv_results_)"
   ]
  },
  {
   "cell_type": "markdown",
   "id": "0cd708f8-41c2-4133-b488-69eb110ac302",
   "metadata": {},
   "source": [
    "# more tuning "
   ]
  },
  {
   "cell_type": "code",
   "execution_count": null,
   "id": "8337e50f-a476-4cad-8e71-455b1926e2da",
   "metadata": {},
   "outputs": [],
   "source": []
  },
  {
   "cell_type": "code",
   "execution_count": null,
   "id": "ee147bb4-6981-47fd-8e2c-87d8851b4f41",
   "metadata": {
    "tags": []
   },
   "outputs": [],
   "source": [
    "xgb2 = XGBClassifier(verbosity=1,n_jobs=-1,random_state=42)\n",
    "\n",
    "xgb2_parameters = {'eta':uniform(0.1,0.3),\n",
    "                   'min_child_weight': uniform(1,10),\n",
    "                   'max_depth': radint(3,10)                   \n",
    "                 }\n",
    "\n",
    "# Instantiate our GridSearchCV object.\n",
    "xgb_rs1 = RandomizedSearchCV(xgb2,param_distributions= xgb2_parameters,cv=3,random_state=42,n_iter=10,n_jobs=-1,verbose=2)\n",
    "# \n",
    "xgb_rs1.fit(Z_train,y_train)\n",
    "#\n",
    "xgb_rs1.score(Z_train,y_train),xgb_rs1.score(Z_test,y_test)"
   ]
  },
  {
   "cell_type": "code",
   "execution_count": null,
   "id": "5a4ffead-e977-4743-a15f-29491fb38e63",
   "metadata": {},
   "outputs": [],
   "source": []
  }
 ],
 "metadata": {
  "kernelspec": {
   "display_name": "Python 3",
   "language": "python",
   "name": "python3"
  },
  "language_info": {
   "codemirror_mode": {
    "name": "ipython",
    "version": 3
   },
   "file_extension": ".py",
   "mimetype": "text/x-python",
   "name": "python",
   "nbconvert_exporter": "python",
   "pygments_lexer": "ipython3",
   "version": "3.8.8"
  }
 },
 "nbformat": 4,
 "nbformat_minor": 5
}
